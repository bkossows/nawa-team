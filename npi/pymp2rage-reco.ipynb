{
 "cells": [
  {
   "cell_type": "code",
   "execution_count": 1,
   "id": "d457df7c",
   "metadata": {},
   "outputs": [],
   "source": [
    "import pymp2rage"
   ]
  },
  {
   "cell_type": "code",
   "execution_count": 2,
   "id": "b126a768",
   "metadata": {},
   "outputs": [
    {
     "name": "stderr",
     "output_type": "stream",
     "text": [
      "/opt/conda/lib/python3.9/site-packages/nilearn/datasets/__init__.py:87: FutureWarning: Fetchers from the nilearn.datasets module will be updated in version 0.9 to return python strings instead of bytes and Pandas dataframes instead of Numpy arrays.\n",
      "  warn(\"Fetchers from the nilearn.datasets module will be \"\n"
     ]
    }
   ],
   "source": [
    "from nilearn import plotting\n",
    "\n",
    "# Use matplotlib for tweaking and inline-plotting\n",
    "import matplotlib.pyplot as plt\n",
    "%matplotlib inline"
   ]
  },
  {
   "cell_type": "code",
   "execution_count": 3,
   "id": "49b3f1fa",
   "metadata": {},
   "outputs": [
    {
     "data": {
      "text/plain": [
       "\" This object can calculate a Unified T1-weighted image and a\\nquantitative T1 map, based on the magnitude and phase-information of the two\\nvolumes of a MP2RAGE-sequence (Marques et al., 2010).\\nIt can also further correct this map for B1 inhomogenieties using a\\nB1 map (Marques et al., 2014).\\nArgs:\\n    MPRAGE_tr (float): MP2RAGE TR in seconds\\n    invtimesAB (list of floats): Inversion times in seconds\\n    flipangleABdegree (list of floats): Flip angle of the two readouts in degrees\\n    nZslices (list of integers): Slices Per Slab * [PartialFourierInSlice-0.5  0.5]\\n    FLASH_tr (float): TR of the GRE readout\\n    sequence (string): Kind of sequence (default is 'normal')\\n    inversion_efficiency: inversion efficiency of the MP2RAGE PULSE (Default is 0.96,\\n                          as measured on a Siemens system).\\n    B0 (float): Field strength in Tesla\\n    inv1_combined (filename or Nifti1Image, optional): Magnitude and phase image corresponding to\\n                                                       first inversion pulse. Should always consist\\n                                                       of two volumes.\\n    inv2_combined (filename or Nifti1Image, optional): Magnitude and phase image corresponding to\\n                                                       second inversion pulse. Should always consist\\n                                                       of two volumes.\\n    inv1 (filename or Nifti1Image, optional): Magnitude image of first inversion pulse.\\n                                              Should always consist of one volume.\\n    inv1ph (filename or Nifti1Image, optional): Phase image of first inversion pulse.\\n                                                Should always consist of one volume.\\n    inv2 (filename or Nifti1Image, optional): Magnitude image of second inversion pulse.\\n                                              Should always consist of one volume.\\n    inv2ph (filename or Nifti1Image, optional): Phase image of second inversion pulse.\\n                                                Should always consist of one volume.\\n    B1_fieldmap (filename or Nifti1Image, optional): B1 fieldmap that indicates the ratio or percentage\\n                                                     of the real versus intended flip angle.\\n                                                     Can be used to correct T1-weighted image and T1 map\\n                                                     for B1+ inhomogenieties.\\nAttributes:\\n    t1map (Nifti1Image): Quantitative T1 map\\n    t1w_uni (Nifti1Image): Bias-field corrected T1-weighted image\\n    t1map_masked (Nifti1Image): Quantitative T1 map, masked\\n    t1w_uni_masked (Nifti1Image): Bias-field corrected T1-weighted map, masked\\n\""
      ]
     },
     "execution_count": 3,
     "metadata": {},
     "output_type": "execute_result"
    }
   ],
   "source": [
    "    \"\"\" This object can calculate a Unified T1-weighted image and a\n",
    "    quantitative T1 map, based on the magnitude and phase-information of the two\n",
    "    volumes of a MP2RAGE-sequence (Marques et al., 2010).\n",
    "    It can also further correct this map for B1 inhomogenieties using a\n",
    "    B1 map (Marques et al., 2014).\n",
    "    Args:\n",
    "        MPRAGE_tr (float): MP2RAGE TR in seconds\n",
    "        invtimesAB (list of floats): Inversion times in seconds\n",
    "        flipangleABdegree (list of floats): Flip angle of the two readouts in degrees\n",
    "        nZslices (list of integers): Slices Per Slab * [PartialFourierInSlice-0.5  0.5]\n",
    "        FLASH_tr (float): TR of the GRE readout\n",
    "        sequence (string): Kind of sequence (default is 'normal')\n",
    "        inversion_efficiency: inversion efficiency of the MP2RAGE PULSE (Default is 0.96,\n",
    "                              as measured on a Siemens system).\n",
    "        B0 (float): Field strength in Tesla\n",
    "        inv1_combined (filename or Nifti1Image, optional): Magnitude and phase image corresponding to\n",
    "                                                           first inversion pulse. Should always consist\n",
    "                                                           of two volumes.\n",
    "        inv2_combined (filename or Nifti1Image, optional): Magnitude and phase image corresponding to\n",
    "                                                           second inversion pulse. Should always consist\n",
    "                                                           of two volumes.\n",
    "        inv1 (filename or Nifti1Image, optional): Magnitude image of first inversion pulse.\n",
    "                                                  Should always consist of one volume.\n",
    "        inv1ph (filename or Nifti1Image, optional): Phase image of first inversion pulse.\n",
    "                                                    Should always consist of one volume.\n",
    "        inv2 (filename or Nifti1Image, optional): Magnitude image of second inversion pulse.\n",
    "                                                  Should always consist of one volume.\n",
    "        inv2ph (filename or Nifti1Image, optional): Phase image of second inversion pulse.\n",
    "                                                    Should always consist of one volume.\n",
    "        B1_fieldmap (filename or Nifti1Image, optional): B1 fieldmap that indicates the ratio or percentage\n",
    "                                                         of the real versus intended flip angle.\n",
    "                                                         Can be used to correct T1-weighted image and T1 map\n",
    "                                                         for B1+ inhomogenieties.\n",
    "    Attributes:\n",
    "        t1map (Nifti1Image): Quantitative T1 map\n",
    "        t1w_uni (Nifti1Image): Bias-field corrected T1-weighted image\n",
    "        t1map_masked (Nifti1Image): Quantitative T1 map, masked\n",
    "        t1w_uni_masked (Nifti1Image): Bias-field corrected T1-weighted map, masked\n",
    "    \"\"\""
   ]
  },
  {
   "cell_type": "code",
   "execution_count": 4,
   "id": "70a01f22",
   "metadata": {},
   "outputs": [],
   "source": [
    "fitter = pymp2rage.MP2RAGE(MPRAGE_tr=5.0,\n",
    "                           invtimesAB=[0.64, 2.5],\n",
    "                           flipangleABdegree=[4, 5],\n",
    "                           nZslices=[88, 88],\n",
    "                           FLASH_tr=0.0068,\n",
    "                           inv1='/home/jovyan/work/ti1.nii',\n",
    "                           inv1ph='/home/jovyan/work/rph1.nii',\n",
    "                           inv2='/home/jovyan/work/ti2.nii',                       \n",
    "                           inv2ph='/home/jovyan/work/rph2.nii')"
   ]
  },
  {
   "cell_type": "code",
   "execution_count": 5,
   "id": "1c08d5b8",
   "metadata": {},
   "outputs": [
    {
     "name": "stderr",
     "output_type": "stream",
     "text": [
      "/opt/conda/lib/python3.9/site-packages/pymp2rage/mp2rage.py:164: RuntimeWarning: invalid value encountered in true_divide\n",
      "  self._t1w_uni = (np.real(compINV1*compINV2/(compINV1**2 + compINV2**2)))*4095+2048\n"
     ]
    }
   ],
   "source": [
    "fitter.t1map.to_filename('/home/jovyan/work/T1map.nii')\n",
    "fitter.t1w_uni.to_filename('/home/jovyan/work/UNI.nii')"
   ]
  },
  {
   "cell_type": "code",
   "execution_count": null,
   "id": "ee021e7b",
   "metadata": {},
   "outputs": [],
   "source": []
  }
 ],
 "metadata": {
  "kernelspec": {
   "display_name": "Python 3",
   "language": "python",
   "name": "python3"
  },
  "language_info": {
   "codemirror_mode": {
    "name": "ipython",
    "version": 3
   },
   "file_extension": ".py",
   "mimetype": "text/x-python",
   "name": "python",
   "nbconvert_exporter": "python",
   "pygments_lexer": "ipython3",
   "version": "3.9.2"
  }
 },
 "nbformat": 4,
 "nbformat_minor": 5
}
