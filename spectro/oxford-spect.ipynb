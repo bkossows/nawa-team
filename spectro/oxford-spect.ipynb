{
 "cells": [
  {
   "cell_type": "code",
   "execution_count": 16,
   "metadata": {},
   "outputs": [],
   "source": [
    "import numpy as np\n",
    "import matplotlib.pyplot as plt\n",
    "import suspect\n",
    "import pydicom\n",
    "import os\n",
    "from shutil import copyfile\n",
    "import subprocess\n",
    "import glob"
   ]
  },
  {
   "cell_type": "code",
   "execution_count": 17,
   "metadata": {},
   "outputs": [],
   "source": [
    "code_dir=os.getcwd()\n",
    "os.chdir(\"/home/jovyan/work/\")"
   ]
  },
  {
   "cell_type": "code",
   "execution_count": 178,
   "metadata": {},
   "outputs": [
    {
     "name": "stdout",
     "output_type": "stream",
     "text": [
      "['F3T_2015_24_002/meas_MID00260_FID01671_metab.dat']\n",
      "header_size: 761536\n",
      "header_size: 761344\n",
      "['F3T_2015_24_004/meas_MID00413_FID03761_metab.dat']\n",
      "header_size: 762784\n",
      "header_size: 762560\n",
      "['F3T_2015_24_007/meas_MID01971_FID03545_metab.dat']\n",
      "header_size: 762784\n",
      "header_size: 762624\n",
      "['F3T_2015_24_008/meas_MID00204_FID07157_metab.dat']\n",
      "header_size: 762240\n",
      "header_size: 762048\n",
      "['F3T_2015_24_009/meas_MID00193_FID08528_metab.dat']\n",
      "header_size: 761760\n",
      "header_size: 761536\n",
      "['F3T_2015_24_010/meas_MID00733_FID11873_metab.dat']\n",
      "header_size: 762688\n",
      "header_size: 762528\n",
      "['F3T_2015_24_011/meas_MID00057_FID13069_metab.dat']\n",
      "header_size: 762656\n",
      "header_size: 762400\n",
      "['F3T_2015_24_012/meas_MID00247_FID13846_metab.dat']\n",
      "header_size: 762880\n",
      "header_size: 762656\n",
      "['F3T_2015_24_013/meas_MID00086_FID15691_metab.dat']\n",
      "header_size: 763104\n",
      "header_size: 762944\n",
      "['F3T_2015_24_015/meas_MID01573_FID24947_metab.dat']\n",
      "header_size: 762656\n",
      "header_size: 762432\n",
      "['F3T_2015_24_019/meas_MID02851_FID29764_metab.dat']\n",
      "header_size: 762848\n",
      "header_size: 753408\n",
      "['F3T_2015_24_020/meas_MID00703_FID31581_metab.dat']\n",
      "header_size: 763264\n",
      "header_size: 763104\n",
      "['F3T_2015_24_022/meas_MID00181_FID33208_metab.dat']\n",
      "header_size: 762848\n",
      "header_size: 762656\n",
      "['F3T_2015_24_024/meas_MID00726_FID34035_metab.dat']\n",
      "header_size: 762848\n",
      "header_size: 762592\n",
      "['F3T_2015_24_025/meas_MID00168_FID36843_metab.dat']\n",
      "header_size: 762688\n",
      "header_size: 762496\n",
      "['F3T_2015_24_027/meas_MID00826_FID38437_metab.dat']\n",
      "header_size: 762784\n",
      "header_size: 762528\n"
     ]
    }
   ],
   "source": [
    "dirs=glob.glob('F3T*')\n",
    "finals=[]\n",
    "water=[]\n",
    "for dir in dirs:\n",
    "    met=glob.glob(os.path.join(dir,'*metab.dat'))\n",
    "    print(met)\n",
    "    data = suspect.io.load_twix(met[0])\n",
    "    data.shape\n",
    "\n",
    "    wat=glob.glob(os.path.join(dir,'*wref1.dat')) \n",
    "    wref = suspect.io.load_twix(wat[0])\n",
    "    wref.shape\n",
    "\n",
    "    channel_weights = suspect.processing.channel_combination.svd_weighting(wref, axis=-2)\n",
    "    cc_wref = suspect.processing.channel_combination.combine_channels(wref, channel_weights)\n",
    "    cc_data = suspect.processing.channel_combination.combine_channels(data, channel_weights)\n",
    "\n",
    "    cc_data.shape\n",
    "\n",
    "    finals.append(np.mean(cc_data, axis=0))\n",
    "    water.append(np.mean(cc_wref))"
   ]
  },
  {
   "cell_type": "code",
   "execution_count": 186,
   "metadata": {},
   "outputs": [],
   "source": [
    "#plt.plot(finals[4].frequency_axis_ppm(), finals[4].spectrum().real)\n",
    "#plt.xlim([4, 0])\n",
    "alligned=[]\n",
    "for spect in finals:\n",
    "    alligned.append(suspect.processing.frequency_correction.correct_frequency_and_phase(spect,final,method='sr',frequency_range=(100,400)))"
   ]
  },
  {
   "cell_type": "code",
   "execution_count": 202,
   "metadata": {},
   "outputs": [
    {
     "name": "stdout",
     "output_type": "stream",
     "text": [
      "(6.921284378539647e-06-9.0237005301886e-07j)\n",
      "(1.1102423799580625e-05+8.00193866801573e-06j)\n",
      "(1.1382702981169778e-05+4.535095231209297e-06j)\n",
      "(1.035288096894225e-05+1.0385158511234815e-05j)\n",
      "(2.1848502494449118e-05+5.596029140649133e-07j)\n",
      "(1.9551885340665105e-05-7.349197600870317e-06j)\n",
      "(1.3679316628280175e-05+1.1932532583303681e-05j)\n",
      "(1.4414921085738241e-05+1.0574965615410458e-05j)\n",
      "(5.432938916499833e-06+6.3906870966446694e-06j)\n",
      "(2.0164053682525146e-05-6.32032026815003e-07j)\n",
      "(2.3786844263148797e-05-1.3170962908388827e-06j)\n",
      "(1.262694821122229e-05+4.560147852716345e-06j)\n",
      "(1.738354972212699e-05-2.1229038402258736e-06j)\n",
      "(1.185862499076226e-05-3.832772452737674e-06j)\n",
      "(1.1361148352210228e-05+1.0612517435617102e-05j)\n",
      "(1.8621930053693267e-05-2.100977308215447e-06j)\n"
     ]
    },
    {
     "data": {
      "text/plain": [
       "(4.0, 0.0)"
      ]
     },
     "execution_count": 202,
     "metadata": {},
     "output_type": "execute_result"
    },
    {
     "data": {
      "image/png": "[encoded data removed]",
      "text/plain": [
       "<Figure size 432x288 with 1 Axes>"
      ]
     },
     "metadata": {
      "needs_background": "light"
     },
     "output_type": "display_data"
    }
   ],
   "source": [
    "\n",
    "mean=sum(alligned)/len(alligned)\n",
    "plt.plot(mean.frequency_axis_ppm(), mean.spectrum().real)\n",
    "#plt.xlim([4, 0])\n",
    "\n",
    "for w in water:\n",
    "    print(w)\n",
    "#rozważyć ważenie sygnałem wody\n",
    "\n",
    "#std=np.std(alligned,axis=0)\n",
    "#plt.fill_between(mean.frequency_axis_ppm(),mean.spectrum().real-10*std,mean.spectrum().real+10*std)\n",
    "#plt.xlim([4, 0])"
   ]
  },
  {
   "cell_type": "code",
   "execution_count": 188,
   "metadata": {},
   "outputs": [],
   "source": [
    "#EXPORT TO CSV\n",
    "\n",
    "import csv\n",
    "\n",
    "nalligned=[]\n",
    "nalligned.append(mean.frequency_axis_ppm())\n",
    "for spect in alligned:\n",
    "    nalligned.append(spect.spectrum().real)\n",
    "\n",
    "\n",
    "nalligned=np.array(nalligned)\n",
    "\n",
    "with open('test.csv', \"w\") as f:\n",
    "    writer = csv.writer(f)\n",
    "    for row in nalligned.T:\n",
    "        writer.writerow(row)\n",
    "\n",
    "#MATLAB        \n",
    "#figure; shadedErrorBar(test1(:,1),test(:,2:end)',{@mean,@std})\n",
    "#xlim([0.2,4]);\n",
    "#set(gca, 'Xdir', 'reverse')\n",
    "#xlabel('Frequency [ppm]')\n",
    "#ylabel('Intensity [a.u.]')"
   ]
  },
  {
   "cell_type": "code",
   "execution_count": 24,
   "metadata": {},
   "outputs": [
    {
     "name": "stdout",
     "output_type": "stream",
     "text": [
      "header_size: 763264\n"
     ]
    },
    {
     "ename": "KeyboardInterrupt",
     "evalue": "",
     "output_type": "error",
     "traceback": [
      "\u001b[0;31m---------------------------------------------------------------------------\u001b[0m",
      "\u001b[0;31mKeyboardInterrupt\u001b[0m                         Traceback (most recent call last)",
      "\u001b[0;32m<ipython-input-24-a9230df22fae>\u001b[0m in \u001b[0;36m<module>\u001b[0;34m\u001b[0m\n\u001b[1;32m      1\u001b[0m \u001b[0;31m#water suppressed spectroscopy\u001b[0m\u001b[0;34m\u001b[0m\u001b[0;34m\u001b[0m\u001b[0;34m\u001b[0m\u001b[0m\n\u001b[0;32m----> 2\u001b[0;31m \u001b[0mdata\u001b[0m \u001b[0;34m=\u001b[0m \u001b[0msuspect\u001b[0m\u001b[0;34m.\u001b[0m\u001b[0mio\u001b[0m\u001b[0;34m.\u001b[0m\u001b[0mload_twix\u001b[0m\u001b[0;34m(\u001b[0m\u001b[0;34m\"F3T_2015_24_020/meas_MID00703_FID31581_metab.dat\"\u001b[0m\u001b[0;34m)\u001b[0m\u001b[0;34m\u001b[0m\u001b[0;34m\u001b[0m\u001b[0m\n\u001b[0m\u001b[1;32m      3\u001b[0m \u001b[0mdata\u001b[0m\u001b[0;34m.\u001b[0m\u001b[0mshape\u001b[0m\u001b[0;34m\u001b[0m\u001b[0;34m\u001b[0m\u001b[0m\n\u001b[1;32m      4\u001b[0m \u001b[0;34m\u001b[0m\u001b[0m\n\u001b[1;32m      5\u001b[0m \u001b[0;31m# side comment: error in suspect twix loader https://github.com/openmrslab/suspect/issues/145\u001b[0m\u001b[0;34m\u001b[0m\u001b[0;34m\u001b[0m\u001b[0;34m\u001b[0m\u001b[0m\n",
      "\u001b[0;32m/opt/conda/lib/python3.8/site-packages/suspect/io/twix.py\u001b[0m in \u001b[0;36mload_twix\u001b[0;34m(filename)\u001b[0m\n\u001b[1;32m    423\u001b[0m \u001b[0;34m\u001b[0m\u001b[0m\n\u001b[1;32m    424\u001b[0m         \u001b[0;32mif\u001b[0m \u001b[0mfirst_uint\u001b[0m \u001b[0;34m==\u001b[0m \u001b[0;36m0\u001b[0m \u001b[0;32mand\u001b[0m \u001b[0msecond_uint\u001b[0m \u001b[0;34m<=\u001b[0m \u001b[0;36m64\u001b[0m\u001b[0;34m:\u001b[0m\u001b[0;34m\u001b[0m\u001b[0;34m\u001b[0m\u001b[0m\n\u001b[0;32m--> 425\u001b[0;31m             \u001b[0mload_twix_vd\u001b[0m\u001b[0;34m(\u001b[0m\u001b[0mfin\u001b[0m\u001b[0;34m,\u001b[0m \u001b[0mbuilder\u001b[0m\u001b[0;34m)\u001b[0m\u001b[0;34m\u001b[0m\u001b[0;34m\u001b[0m\u001b[0m\n\u001b[0m\u001b[1;32m    426\u001b[0m         \u001b[0;32melse\u001b[0m\u001b[0;34m:\u001b[0m\u001b[0;34m\u001b[0m\u001b[0;34m\u001b[0m\u001b[0m\n\u001b[1;32m    427\u001b[0m             \u001b[0mload_twix_vb\u001b[0m\u001b[0;34m(\u001b[0m\u001b[0mfin\u001b[0m\u001b[0;34m,\u001b[0m \u001b[0mbuilder\u001b[0m\u001b[0;34m)\u001b[0m\u001b[0;34m\u001b[0m\u001b[0;34m\u001b[0m\u001b[0m\n",
      "\u001b[0;32m/opt/conda/lib/python3.8/site-packages/suspect/io/twix.py\u001b[0m in \u001b[0;36mload_twix_vd\u001b[0;34m(fin, builder)\u001b[0m\n\u001b[1;32m    402\u001b[0m             \u001b[0mdata_iter\u001b[0m \u001b[0;34m=\u001b[0m \u001b[0miter\u001b[0m\u001b[0;34m(\u001b[0m\u001b[0mraw_data\u001b[0m\u001b[0;34m)\u001b[0m\u001b[0;34m\u001b[0m\u001b[0;34m\u001b[0m\u001b[0m\n\u001b[1;32m    403\u001b[0m             \u001b[0mcomplex_iter\u001b[0m \u001b[0;34m=\u001b[0m \u001b[0;34m(\u001b[0m\u001b[0mcomplex\u001b[0m\u001b[0;34m(\u001b[0m\u001b[0mr\u001b[0m\u001b[0;34m,\u001b[0m \u001b[0;34m-\u001b[0m\u001b[0mi\u001b[0m\u001b[0;34m)\u001b[0m \u001b[0;32mfor\u001b[0m \u001b[0mr\u001b[0m\u001b[0;34m,\u001b[0m \u001b[0mi\u001b[0m \u001b[0;32min\u001b[0m \u001b[0mzip\u001b[0m\u001b[0;34m(\u001b[0m\u001b[0mdata_iter\u001b[0m\u001b[0;34m,\u001b[0m \u001b[0mdata_iter\u001b[0m\u001b[0;34m)\u001b[0m\u001b[0;34m)\u001b[0m\u001b[0;34m\u001b[0m\u001b[0;34m\u001b[0m\u001b[0m\n\u001b[0;32m--> 404\u001b[0;31m             \u001b[0mscan_data\u001b[0m\u001b[0;34m[\u001b[0m\u001b[0mchannel_index\u001b[0m\u001b[0;34m,\u001b[0m \u001b[0;34m:\u001b[0m\u001b[0;34m]\u001b[0m \u001b[0;34m=\u001b[0m \u001b[0mnumpy\u001b[0m\u001b[0;34m.\u001b[0m\u001b[0mfromiter\u001b[0m\u001b[0;34m(\u001b[0m\u001b[0mcomplex_iter\u001b[0m\u001b[0;34m,\u001b[0m \u001b[0;34m\"complex64\"\u001b[0m\u001b[0;34m,\u001b[0m \u001b[0mnum_samples\u001b[0m\u001b[0;34m)\u001b[0m\u001b[0;34m[\u001b[0m\u001b[0mfid_start\u001b[0m\u001b[0;34m:\u001b[0m\u001b[0;34m(\u001b[0m\u001b[0mfid_start\u001b[0m \u001b[0;34m+\u001b[0m \u001b[0mnp\u001b[0m\u001b[0;34m)\u001b[0m\u001b[0;34m]\u001b[0m\u001b[0;34m\u001b[0m\u001b[0;34m\u001b[0m\u001b[0m\n\u001b[0m\u001b[1;32m    405\u001b[0m \u001b[0;34m\u001b[0m\u001b[0m\n\u001b[1;32m    406\u001b[0m         \u001b[0mbuilder\u001b[0m\u001b[0;34m.\u001b[0m\u001b[0madd_scan\u001b[0m\u001b[0;34m(\u001b[0m\u001b[0mloop_counters\u001b[0m\u001b[0;34m,\u001b[0m \u001b[0mscan_data\u001b[0m\u001b[0;34m)\u001b[0m\u001b[0;34m\u001b[0m\u001b[0;34m\u001b[0m\u001b[0m\n",
      "\u001b[0;32m/opt/conda/lib/python3.8/site-packages/suspect/io/twix.py\u001b[0m in \u001b[0;36m<genexpr>\u001b[0;34m(.0)\u001b[0m\n\u001b[1;32m    401\u001b[0m             \u001b[0;31m# we need to massage the list of floats into a numpy array of complex numbers\u001b[0m\u001b[0;34m\u001b[0m\u001b[0;34m\u001b[0m\u001b[0;34m\u001b[0m\u001b[0m\n\u001b[1;32m    402\u001b[0m             \u001b[0mdata_iter\u001b[0m \u001b[0;34m=\u001b[0m \u001b[0miter\u001b[0m\u001b[0;34m(\u001b[0m\u001b[0mraw_data\u001b[0m\u001b[0;34m)\u001b[0m\u001b[0;34m\u001b[0m\u001b[0;34m\u001b[0m\u001b[0m\n\u001b[0;32m--> 403\u001b[0;31m             \u001b[0mcomplex_iter\u001b[0m \u001b[0;34m=\u001b[0m \u001b[0;34m(\u001b[0m\u001b[0mcomplex\u001b[0m\u001b[0;34m(\u001b[0m\u001b[0mr\u001b[0m\u001b[0;34m,\u001b[0m \u001b[0;34m-\u001b[0m\u001b[0mi\u001b[0m\u001b[0;34m)\u001b[0m \u001b[0;32mfor\u001b[0m \u001b[0mr\u001b[0m\u001b[0;34m,\u001b[0m \u001b[0mi\u001b[0m \u001b[0;32min\u001b[0m \u001b[0mzip\u001b[0m\u001b[0;34m(\u001b[0m\u001b[0mdata_iter\u001b[0m\u001b[0;34m,\u001b[0m \u001b[0mdata_iter\u001b[0m\u001b[0;34m)\u001b[0m\u001b[0;34m)\u001b[0m\u001b[0;34m\u001b[0m\u001b[0;34m\u001b[0m\u001b[0m\n\u001b[0m\u001b[1;32m    404\u001b[0m             \u001b[0mscan_data\u001b[0m\u001b[0;34m[\u001b[0m\u001b[0mchannel_index\u001b[0m\u001b[0;34m,\u001b[0m \u001b[0;34m:\u001b[0m\u001b[0;34m]\u001b[0m \u001b[0;34m=\u001b[0m \u001b[0mnumpy\u001b[0m\u001b[0;34m.\u001b[0m\u001b[0mfromiter\u001b[0m\u001b[0;34m(\u001b[0m\u001b[0mcomplex_iter\u001b[0m\u001b[0;34m,\u001b[0m \u001b[0;34m\"complex64\"\u001b[0m\u001b[0;34m,\u001b[0m \u001b[0mnum_samples\u001b[0m\u001b[0;34m)\u001b[0m\u001b[0;34m[\u001b[0m\u001b[0mfid_start\u001b[0m\u001b[0;34m:\u001b[0m\u001b[0;34m(\u001b[0m\u001b[0mfid_start\u001b[0m \u001b[0;34m+\u001b[0m \u001b[0mnp\u001b[0m\u001b[0;34m)\u001b[0m\u001b[0;34m]\u001b[0m\u001b[0;34m\u001b[0m\u001b[0;34m\u001b[0m\u001b[0m\n\u001b[1;32m    405\u001b[0m \u001b[0;34m\u001b[0m\u001b[0m\n",
      "\u001b[0;31mKeyboardInterrupt\u001b[0m: "
     ]
    }
   ],
   "source": [
    "#water suppressed spectroscopy \n",
    "data = suspect.io.load_twix(\"F3T_2015_24_020/meas_MID00703_FID31581_metab.dat\")\n",
    "data.shape\n",
    "\n",
    "# side comment: error in suspect twix loader https://github.com/openmrslab/suspect/issues/145"
   ]
  },
  {
   "cell_type": "code",
   "execution_count": null,
   "metadata": {},
   "outputs": [],
   "source": [
    "#INDIVIDUAL PROCESSING TEMPLATE"
   ]
  },
  {
   "cell_type": "code",
   "execution_count": 7,
   "metadata": {},
   "outputs": [
    {
     "name": "stdout",
     "output_type": "stream",
     "text": [
      "header_size: 762656\n"
     ]
    },
    {
     "data": {
      "text/plain": [
       "(38, 4096)"
      ]
     },
     "execution_count": 7,
     "metadata": {},
     "output_type": "execute_result"
    }
   ],
   "source": [
    "#water reference (not suppressed) \n",
    "wref = suspect.io.load_twix(\"F3T_2015_24_012/meas_MID00248_FID13847_metab_wref1.dat\")\n",
    "wref.shape"
   ]
  },
  {
   "cell_type": "code",
   "execution_count": 8,
   "metadata": {},
   "outputs": [],
   "source": [
    "#combine channels\n",
    "channel_weights = suspect.processing.channel_combination.svd_weighting(wref, axis=-2)\n",
    "cc_wref = suspect.processing.channel_combination.combine_channels(wref, channel_weights)\n",
    "cc_data = suspect.processing.channel_combination.combine_channels(data, channel_weights)"
   ]
  },
  {
   "cell_type": "code",
   "execution_count": 9,
   "metadata": {},
   "outputs": [
    {
     "data": {
      "text/plain": [
       "(256, 4096)"
      ]
     },
     "execution_count": 9,
     "metadata": {},
     "output_type": "execute_result"
    }
   ],
   "source": [
    "cc_data.shape"
   ]
  },
  {
   "cell_type": "code",
   "execution_count": 10,
   "metadata": {},
   "outputs": [],
   "source": [
    "#accumulate data\n",
    "#wref_final = np.mean(cc_wref[0], axis=0)\n",
    "final = np.mean(cc_data, axis=0)\n"
   ]
  },
  {
   "cell_type": "code",
   "execution_count": 11,
   "metadata": {},
   "outputs": [
    {
     "data": {
      "text/plain": [
       "(4.0, 0.0)"
      ]
     },
     "execution_count": 11,
     "metadata": {},
     "output_type": "execute_result"
    },
    {
     "data": {
      "image/png": "[encoded data removed]",
      "text/plain": [
       "<Figure size 432x288 with 1 Axes>"
      ]
     },
     "metadata": {
      "needs_background": "light"
     },
     "output_type": "display_data"
    }
   ],
   "source": [
    "plt.plot(final.frequency_axis_ppm(), final.spectrum().real)\n",
    "plt.xlim([4, 0])\n",
    "#plt.ylim([-1e-4,0.5e-3])"
   ]
  },
  {
   "cell_type": "code",
   "execution_count": 12,
   "metadata": {},
   "outputs": [
    {
     "data": {
      "text/plain": [
       "'./tarquin.txt'"
      ]
     },
     "execution_count": 12,
     "metadata": {},
     "output_type": "execute_result"
    }
   ],
   "source": [
    "tarquin_results = suspect.io.tarquin.process(final, cc_wref, options={\"pul_seq\": \"press\",\n",
    "                                                           \"int_basis\": \"1h_brain\",\n",
    "                                                           \"ref_signals\": \"1h_naa_cr_cho_lip\",\n",
    "                                                           \"start_pnt\": \"10\",\n",
    "                                                           })\n",
    "copyfile(\"/tmp/output.txt\",\"./tarquin.txt\")"
   ]
  },
  {
   "cell_type": "code",
   "execution_count": 15,
   "metadata": {},
   "outputs": [
    {
     "data": {
      "text/plain": [
       "(4.0, 0.0)"
      ]
     },
     "execution_count": 15,
     "metadata": {},
     "output_type": "execute_result"
    },
    {
     "data": {
      "image/png": "[encoded data removed]",
      "text/plain": [
       "<Figure size 432x288 with 1 Axes>"
      ]
     },
     "metadata": {
      "needs_background": "light"
     },
     "output_type": "display_data"
    }
   ],
   "source": [
    "plt.plot(tarquin_results[\"plots\"][\"data\"].frequency_axis_ppm(), tarquin_results[\"plots\"][\"data\"].real)\n",
    "plt.plot(tarquin_results[\"plots\"][\"fit\"].frequency_axis_ppm(), tarquin_results[\"plots\"][\"fit\"].real)\n",
    "plt.xlim([4, 0])"
   ]
  },
  {
   "cell_type": "code",
   "execution_count": 42,
   "metadata": {},
   "outputs": [
    {
     "data": {
      "text/plain": [
       "{'-CrCH2': {'concentration': '0.000', 'sd': 'inf'},\n",
       " 'Ala': {'concentration': '2.708', 'sd': '213.1'},\n",
       " 'Asp': {'concentration': '5.061', 'sd': '27.42'},\n",
       " 'Cr': {'concentration': '0.000', 'sd': 'inf'},\n",
       " 'GABA': {'concentration': '6.063', 'sd': '39.54'},\n",
       " 'GPC': {'concentration': '1.272', 'sd': '26.47'},\n",
       " 'Glc': {'concentration': '1.902', 'sd': '66.75'},\n",
       " 'Gln': {'concentration': '3.941', 'sd': '22.89'},\n",
       " 'Glu': {'concentration': '0.000', 'sd': 'inf'},\n",
       " 'Gua': {'concentration': '0.000', 'sd': 'inf'},\n",
       " 'Ins': {'concentration': '7.191', 'sd': '10.76'},\n",
       " 'Lac': {'concentration': '0.3361', 'sd': '1310.'},\n",
       " 'Lip09': {'concentration': '3.737', 'sd': '169.9'},\n",
       " 'Lip13a': {'concentration': '8.082', 'sd': '1574.'},\n",
       " 'Lip13b': {'concentration': '0.5108', 'sd': '1567.'},\n",
       " 'Lip20': {'concentration': '0.000', 'sd': 'inf'},\n",
       " 'MM09': {'concentration': '21.37', 'sd': '190.0'},\n",
       " 'MM12': {'concentration': '7.696', 'sd': '516.2'},\n",
       " 'MM14': {'concentration': '13.75', 'sd': '515.6'},\n",
       " 'MM17': {'concentration': '8.352', 'sd': '76.03'},\n",
       " 'MM20': {'concentration': '23.01', 'sd': '11.05'},\n",
       " 'NAA': {'concentration': '1.598', 'sd': '59.22'},\n",
       " 'NAAG': {'concentration': '0.4000', 'sd': '240.2'},\n",
       " 'PCh': {'concentration': '0.000', 'sd': 'inf'},\n",
       " 'PCr': {'concentration': '3.404', 'sd': '22.51'},\n",
       " 'Scyllo': {'concentration': '0.000', 'sd': 'inf'},\n",
       " 'Tau': {'concentration': '2.527', 'sd': '89.31'},\n",
       " 'TNAA': {'concentration': '1.998', 'sd': '38.61'},\n",
       " 'TCho': {'concentration': '1.272', 'sd': '23.01'},\n",
       " 'TCr': {'concentration': '3.404', 'sd': '8.810'},\n",
       " 'Glx': {'concentration': '3.941', 'sd': '19.47'},\n",
       " 'TLM09': {'concentration': '25.10', 'sd': '16.74'},\n",
       " 'TLM13': {'concentration': '30.04', 'sd': '36.02'},\n",
       " 'TLM20': {'concentration': '23.01', 'sd': '6.031'}}"
      ]
     },
     "execution_count": 42,
     "metadata": {},
     "output_type": "execute_result"
    }
   ],
   "source": [
    "tarquin_results[\"metabolite_fits\"]"
   ]
  },
  {
   "cell_type": "code",
   "execution_count": null,
   "metadata": {},
   "outputs": [],
   "source": []
  },
  {
   "cell_type": "code",
   "execution_count": 11,
   "metadata": {},
   "outputs": [],
   "source": [
    "# create a parameters dictionary to set the basis set to use\n",
    "params = {\n",
    "    \"FILBAS\": \"/home/jovyan/work/basis/press_te30_3t_all_v3.basis\",\n",
    "    \"key\": 210387309,\n",
    "    \"OWNER\": \"OpenMRSLab\",\n",
    "    \"NEACH\": 99,\n",
    "    \"LCSV\": 11\n",
    "}\n",
    "suspect.io.lcmodel.write_all_files(\"lcmodel_data/example.RAW\", data=final, wref_data=cc_wref, params=params)"
   ]
  },
  {
   "cell_type": "code",
   "execution_count": 12,
   "metadata": {},
   "outputs": [
    {
     "name": "stdout",
     "output_type": "stream",
     "text": [
      "\n"
     ]
    }
   ],
   "source": [
    "myinput = open('./lcmodel_data/example_sl0.CONTROL')\n",
    "result = subprocess.run(\"/home/jovyan/.lcmodel/bin/lcmodel\",stdin=myinput,stdout=subprocess.PIPE)\n",
    "subprocess.run([\"ps2pdf\",\"lcmodel_data/example.PS\",\"lcmodel_data/example.PDF\"])\n",
    "print(result.stdout.decode())"
   ]
  },
  {
   "cell_type": "code",
   "execution_count": null,
   "metadata": {},
   "outputs": [],
   "source": []
  }
 ],
 "metadata": {
  "kernelspec": {
   "display_name": "Python 3",
   "language": "python",
   "name": "python3"
  },
  "language_info": {
   "codemirror_mode": {
    "name": "ipython",
    "version": 3
   },
   "file_extension": ".py",
   "mimetype": "text/x-python",
   "name": "python",
   "nbconvert_exporter": "python",
   "pygments_lexer": "ipython3",
   "version": "3.8.5"
  }
 },
 "nbformat": 4,
 "nbformat_minor": 4
}
